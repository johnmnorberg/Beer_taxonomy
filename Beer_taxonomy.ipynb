{
 "cells": [
  {
   "cell_type": "code",
   "execution_count": 191,
   "metadata": {
    "scrolled": false
   },
   "outputs": [
    {
     "data": {
      "application/vnd.plotly.v1+json": {
       "config": {
        "plotlyServerURL": "https://plot.ly"
       },
       "data": [
        {
         "line": {
          "color": "gray",
          "width": 2
         },
         "mode": "lines",
         "type": "scatter",
         "x": [
          1,
          0,
          null,
          1,
          0,
          null,
          1,
          0,
          null,
          1,
          2,
          null,
          5,
          4,
          null,
          5,
          4,
          null,
          5,
          6,
          null,
          9,
          8,
          null,
          9,
          9,
          null,
          9,
          10,
          null,
          9,
          9,
          null,
          13,
          12,
          null,
          13,
          13,
          null,
          13,
          14,
          null,
          17,
          16,
          null,
          17,
          17,
          null,
          17,
          18,
          null,
          17,
          17,
          null,
          21,
          20,
          null,
          21,
          22,
          null,
          21,
          21,
          null,
          1,
          0,
          null,
          1,
          0,
          null,
          1,
          2,
          null,
          1,
          2,
          null,
          5,
          4,
          null,
          5,
          6,
          null,
          9,
          8,
          null,
          9,
          8,
          null,
          9,
          10,
          null,
          13,
          13,
          null,
          13,
          12,
          null,
          13,
          14,
          null,
          17,
          16,
          null,
          17,
          17,
          null,
          17,
          18,
          null,
          21,
          20,
          null,
          21,
          22,
          null,
          21,
          22,
          null,
          1,
          0,
          null,
          1,
          2,
          null,
          1,
          1,
          null,
          5,
          4,
          null,
          5,
          5,
          null,
          5,
          6,
          null,
          9,
          8,
          null,
          9,
          10,
          null,
          9,
          10,
          null,
          13,
          12,
          null,
          13,
          13,
          null,
          13,
          14,
          null,
          13,
          13,
          null,
          17,
          16,
          null,
          17,
          16,
          null,
          17,
          18,
          null,
          17,
          18,
          null,
          21,
          20,
          null,
          21,
          22,
          null,
          1,
          0,
          null,
          1,
          0,
          null,
          1,
          2,
          null,
          5,
          4,
          null,
          5,
          6,
          null,
          5,
          6,
          null,
          9,
          8,
          null,
          9,
          8,
          null,
          9,
          9,
          null,
          9,
          9,
          null,
          9,
          10,
          null,
          9,
          10,
          null,
          9,
          10,
          null,
          13,
          12,
          null,
          13,
          12,
          null,
          13,
          14,
          null,
          13,
          14,
          null,
          17,
          16,
          null,
          17,
          17,
          null,
          17,
          18,
          null,
          17,
          16,
          null,
          17,
          17,
          null,
          17,
          18,
          null,
          21,
          20,
          null,
          21,
          22,
          null,
          21,
          22,
          null,
          1,
          0,
          null,
          1,
          2,
          null,
          1,
          1,
          null,
          5,
          4,
          null,
          5,
          4,
          null,
          5,
          6,
          null,
          5,
          6,
          null,
          9,
          8,
          null,
          9,
          8,
          null,
          9,
          8,
          null,
          9,
          9,
          null,
          9,
          9,
          null,
          9,
          10,
          null,
          9,
          10,
          null,
          9,
          10,
          null,
          9,
          8,
          null,
          13,
          12,
          null,
          13,
          14,
          null,
          13,
          14,
          null,
          17,
          17,
          null,
          17,
          18,
          null,
          17,
          18,
          null,
          21,
          20,
          null,
          21,
          21,
          null,
          21,
          22,
          null,
          1,
          0,
          null,
          1,
          2,
          null,
          5,
          5,
          null,
          5,
          5,
          null,
          9,
          8,
          null,
          9,
          10,
          null,
          13,
          12,
          null,
          13,
          14,
          null,
          13,
          13,
          null
         ],
         "y": [
          1,
          0,
          null,
          1,
          2,
          null,
          1,
          2,
          null,
          1,
          2,
          null,
          1,
          0,
          null,
          1,
          2,
          null,
          1,
          1,
          null,
          1,
          1,
          null,
          1,
          2,
          null,
          1,
          1,
          null,
          1,
          0,
          null,
          1,
          0,
          null,
          1,
          2,
          null,
          1,
          0,
          null,
          1,
          1,
          null,
          1,
          2,
          null,
          1,
          1,
          null,
          1,
          0,
          null,
          1,
          2,
          null,
          1,
          2,
          null,
          1,
          0,
          null,
          5,
          4,
          null,
          5,
          6,
          null,
          5,
          4,
          null,
          5,
          6,
          null,
          5,
          5,
          null,
          5,
          5,
          null,
          5,
          4,
          null,
          5,
          6,
          null,
          5,
          5,
          null,
          5,
          4,
          null,
          5,
          6,
          null,
          5,
          6,
          null,
          5,
          4,
          null,
          5,
          6,
          null,
          5,
          4,
          null,
          5,
          5,
          null,
          5,
          6,
          null,
          5,
          4,
          null,
          9,
          10,
          null,
          9,
          10,
          null,
          9,
          8,
          null,
          9,
          8,
          null,
          9,
          10,
          null,
          9,
          8,
          null,
          9,
          9,
          null,
          9,
          10,
          null,
          9,
          8,
          null,
          9,
          9,
          null,
          9,
          10,
          null,
          9,
          9,
          null,
          9,
          8,
          null,
          9,
          8,
          null,
          9,
          10,
          null,
          9,
          8,
          null,
          9,
          10,
          null,
          9,
          9,
          null,
          9,
          9,
          null,
          13,
          12,
          null,
          13,
          14,
          null,
          13,
          13,
          null,
          13,
          13,
          null,
          13,
          12,
          null,
          13,
          14,
          null,
          13,
          13,
          null,
          13,
          14,
          null,
          13,
          12,
          null,
          13,
          14,
          null,
          13,
          12,
          null,
          13,
          13,
          null,
          13,
          14,
          null,
          13,
          12,
          null,
          13,
          14,
          null,
          13,
          12,
          null,
          13,
          14,
          null,
          13,
          12,
          null,
          13,
          12,
          null,
          13,
          12,
          null,
          13,
          14,
          null,
          13,
          14,
          null,
          13,
          14,
          null,
          13,
          13,
          null,
          13,
          12,
          null,
          13,
          14,
          null,
          17,
          18,
          null,
          17,
          18,
          null,
          17,
          16,
          null,
          17,
          16,
          null,
          17,
          18,
          null,
          17,
          16,
          null,
          17,
          18,
          null,
          17,
          16,
          null,
          17,
          17,
          null,
          17,
          18,
          null,
          17,
          16,
          null,
          17,
          18,
          null,
          17,
          16,
          null,
          17,
          17,
          null,
          17,
          18,
          null,
          17,
          19,
          null,
          17,
          17,
          null,
          17,
          16,
          null,
          17,
          18,
          null,
          17,
          17,
          null,
          17,
          16,
          null,
          17,
          18,
          null,
          17,
          16,
          null,
          17,
          18,
          null,
          17,
          16,
          null,
          21,
          21,
          null,
          21,
          21,
          null,
          21,
          20,
          null,
          21,
          22,
          null,
          21,
          22,
          null,
          21,
          20,
          null,
          21,
          22,
          null,
          21,
          22,
          null,
          21,
          20,
          null
         ]
        },
        {
         "hoverinfo": "text",
         "hovertext": [
          "Standard American Beer<br>Origin:  <br>ABV range:  - <br>IBU range:  - ",
          "American Light Lager<br>Origin: United States<br>ABV range: 2.8-4.2<br>IBU range: 8-12",
          "American Lager<br>Origin: United States<br>ABV range: 4.2-5.3<br>IBU range: 8-18",
          "Cream Ale<br>Origin: United States<br>ABV range: 4.2-5.6<br>IBU range: 8-20",
          "American Wheat Beer<br>Origin: United States<br>ABV range: 4-5.5<br>IBU range: 15-30",
          "International Lager<br>Origin:  <br>ABV range:  - <br>IBU range:  - ",
          "International Pale Lager<br>Origin: International<br>ABV range: 4.6-6<br>IBU range: 18-25",
          "International Amber Lager<br>Origin: International<br>ABV range: 4.6-6<br>IBU range: 8-25",
          "International Dark Lager<br>Origin: International<br>ABV range: 4.2-6<br>IBU range: 8-20",
          "Czech Lager<br>Origin:  <br>ABV range:  - <br>IBU range:  - ",
          "Czech Pale Lager<br>Origin: Czech Republic<br>ABV range: 3-4.1<br>IBU range: 20-35",
          "Czech Premium Pale Lager<br>Origin: Czech Republic<br>ABV range: 4.2-5.8<br>IBU range: 30-45",
          "Czech Amber Lager<br>Origin: Czech Republic<br>ABV range: 4.4-5.8<br>IBU range: 20-35",
          "Czech Dark Lager<br>Origin: Czech Republic<br>ABV range: 4.4-5.8<br>IBU range: 18-34",
          "Pale Malty European Lager<br>Origin:  <br>ABV range:  - <br>IBU range:  - ",
          "Munich Helles<br>Origin: Germany<br>ABV range: 4.7-5.4<br>IBU range: 16-22",
          "Festbier<br>Origin: Germany<br>ABV range: 5.8-6.3<br>IBU range: 18-25",
          "Helles Bock<br>Origin: Germany<br>ABV range: 6.3-7.4<br>IBU range: 23-35",
          "Pale Bitter European beer<br>Origin:  <br>ABV range:  - <br>IBU range:  - ",
          "German Leichtbier<br>Origin: Germany<br>ABV range: 2.4-3.6<br>IBU range: 15-28",
          "Kölsch<br>Origin: Germany<br>ABV range: 4.4-5.2<br>IBU range: 18-30",
          "German Helles Exportbier<br>Origin: Germany<br>ABV range: 4.8-6<br>IBU range: 20-30",
          "German Pils<br>Origin: Germany<br>ABV range: 4.4-5.2<br>IBU range: 22-40",
          "Amber Malty European Lager<br>Origin:  <br>ABV range:  - <br>IBU range:  - ",
          "Märzen<br>Origin: Germany<br>ABV range: 5.8-6.3<br>IBU range: 18-24",
          "Rauchbier<br>Origin: Germany<br>ABV range: 4.8-6<br>IBU range: 20-30",
          "Dunkles Bock<br>Origin: Germany<br>ABV range: 6.3-7.2<br>IBU range: 20-27",
          "Amber Bitter European Beer<br>Origin:  <br>ABV range:  - <br>IBU range:  - ",
          "Vienna Lager<br>Origin: Austria<br>ABV range: 4.7-5.5<br>IBU range: 18-30",
          "Altbier<br>Origin: Germany<br>ABV range: 4.3-5.5<br>IBU range: 25-50",
          "Pale Kellerbier<br>Origin: Germany<br>ABV range: 4.7-5.4<br>IBU range: 20-35",
          "Amber Kellerbier<br>Origin: Germany<br>ABV range: 4.8-5.4<br>IBU range: 25-40",
          "Dark European Lager<br>Origin:  <br>ABV range:  - <br>IBU range:  - ",
          "Munich Dunkel<br>Origin: Germany<br>ABV range: 4.5-5.6<br>IBU range: 18-28",
          "Schwarzbier<br>Origin: Germany<br>ABV range: 4.4-5.4<br>IBU range: 20-30",
          "Strong European Beer<br>Origin:  <br>ABV range:  - <br>IBU range:  - ",
          "Doppelbock<br>Origin: Germany<br>ABV range: 7-10<br>IBU range: 16-26",
          "Eisbock<br>Origin: Germany<br>ABV range: 9-14<br>IBU range: 25-35",
          "Baltic Porter<br>Origin: Scandinavia<br>ABV range: 6.5-9.5<br>IBU range: 20-40",
          "German Wheat Beer<br>Origin:  <br>ABV range:  - <br>IBU range:  - ",
          "Weissbier<br>Origin: Germany<br>ABV range: 4.3-5.6<br>IBU range: 8-15",
          "Dunkles Weissbier<br>Origin: Germany<br>ABV range: 4.3-5.6<br>IBU range: 10-18",
          "Weizenbock<br>Origin: Germany<br>ABV range: 6.5-9<br>IBU range: 15-30",
          "British Bitter<br>Origin:  <br>ABV range:  - <br>IBU range:  - ",
          "Ordinary Bitter<br>Origin: England<br>ABV range: 3.2-3.8<br>IBU range: 25-35",
          "Best Bitter<br>Origin: England<br>ABV range: 3.8-4.6<br>IBU range: 25-40",
          "Strong Bitter<br>Origin: England<br>ABV range: 4.6-6.2<br>IBU range: 30-50",
          "Pale Commonwealth Beer<br>Origin:  <br>ABV range:  - <br>IBU range:  - ",
          "British Golden Ale<br>Origin: England<br>ABV range: 3.8-5<br>IBU range: 20-45",
          "Australian Sparkling Ale<br>Origin: Australian<br>ABV range: 4.5-6<br>IBU range: 20-35",
          "English IPA<br>Origin: England<br>ABV range: 5-7.5<br>IBU range: 40-60",
          "Brown British Beer<br>Origin:  <br>ABV range:  - <br>IBU range:  - ",
          "Dark Mild<br>Origin: England<br>ABV range: 3-3.8<br>IBU range: 10-25",
          "British Brown Ale<br>Origin: England<br>ABV range: 4.2-5.4<br>IBU range: 20-30",
          "English Porter<br>Origin: England<br>ABV range: 4-5.4<br>IBU range: 18-35",
          "Scottish Ale<br>Origin:  <br>ABV range:  - <br>IBU range:  - ",
          "Scottish Light<br>Origin: Scotland<br>ABV range: 2.5-3.2<br>IBU range: 10-20",
          "Scottish Heavy<br>Origin: Scotland<br>ABV range: 3.2-3.9<br>IBU range: 10-20",
          "Scottish Export<br>Origin: Scotland<br>ABV range: 3.9-6<br>IBU range: 15-30",
          "Irish Beer<br>Origin:  <br>ABV range:  - <br>IBU range:  - ",
          "Irish Red Ale<br>Origin: Ireland<br>ABV range: 3.8-5<br>IBU range: 18-28",
          "Irish Stout<br>Origin: Ireland<br>ABV range: 4-4.5<br>IBU range: 25-45",
          "Irish Extra Stout<br>Origin: Ireland<br>ABV range: 5.5-6.5<br>IBU range: 35-50",
          "Dark British Beer<br>Origin:  <br>ABV range:  - <br>IBU range:  - ",
          "Sweet Stout<br>Origin: England<br>ABV range: 4-6<br>IBU range: 20-40",
          "Oatmeal Stout<br>Origin: England<br>ABV range: 4.2-5.9<br>IBU range: 25-40",
          "Tropical Stout<br>Origin: England<br>ABV range: 5.5-8<br>IBU range: 30-50",
          "Foreign Extra Stout<br>Origin: England<br>ABV range: 6.3-8<br>IBU range: 50-70",
          "Strong British Ale<br>Origin:  <br>ABV range:  - <br>IBU range:  - ",
          "British Strong Ale<br>Origin: England<br>ABV range: 5.5-8<br>IBU range: 30-60",
          "Old Ale<br>Origin: England<br>ABV range: 5.5-9<br>IBU range: 30-60",
          "Wee Heavy<br>Origin: Scotland<br>ABV range: 6.5-10<br>IBU range: 17-35",
          "English Barleywine<br>Origin: England<br>ABV range: 8-12<br>IBU range: 35-70",
          "Pale American Ale<br>Origin:  <br>ABV range:  - <br>IBU range:  - ",
          "Blonde Ale<br>Origin: United States<br>ABV range: 3.8-5.5<br>IBU range: 15-28",
          "American Pale Ale<br>Origin: United States<br>ABV range: 4.5-6.2<br>IBU range: 30-50",
          "Amber and Brown American Beer<br>Origin:  <br>ABV range:  - <br>IBU range:  - ",
          "American Amber Ale<br>Origin: United States<br>ABV range: 4.5-6.2<br>IBU range: 25-40",
          "California Common <br>Origin: United States<br>ABV range: 4.5-5.5<br>IBU range: 30-45",
          "American Brown Ale<br>Origin: United States<br>ABV range: 4.3-6.2<br>IBU range: 20-30",
          "American Porter and Stout<br>Origin:  <br>ABV range:  - <br>IBU range:  - ",
          "American Porter<br>Origin: United States<br>ABV range: 4.8-6.5<br>IBU range: 25-50",
          "American Stout<br>Origin: United States<br>ABV range: 5-7<br>IBU range: 35-75",
          "Imperial Stout<br>Origin: England<br>ABV range: 8-12<br>IBU range: 50-90",
          "IPA<br>Origin:  <br>ABV range:  - <br>IBU range:  - ",
          "American IPA<br>Origin: United States<br>ABV range: 5.5-7.5<br>IBU range: 40-70",
          "Specialty IPA - Belgian IPA<br>Origin: United States<br>ABV range: 6.2-9.5<br>IBU range: 50-100",
          "Specialty IPA - Black IPA<br>Origin: United States<br>ABV range: 5.5-9<br>IBU range: 50-90",
          "Specialty IPA - Brown IPA<br>Origin: United States<br>ABV range: 5.5-7.5<br>IBU range: 40-70",
          "Specialty IPA - Red IPA<br>Origin: United States<br>ABV range: 5.5-7.5<br>IBU range: 40-70",
          "Specialty IPA - Rye IPA<br>Origin: United States<br>ABV range: 5.5-8<br>IBU range: 50-75",
          "Specialty IPA - White IPA<br>Origin: United States<br>ABV range: 5.5-7<br>IBU range: 40-70",
          "Strong American Ale<br>Origin:  <br>ABV range:  - <br>IBU range:  - ",
          "Double IPA<br>Origin: United States<br>ABV range: 7.5-10<br>IBU range: 60-120",
          "American Strong Ale<br>Origin: United States<br>ABV range: 6.3-10<br>IBU range: 50-100",
          "American Barleywine<br>Origin: United States<br>ABV range: 8-12<br>IBU range: 50-100",
          "Wheatwine<br>Origin: United States<br>ABV range: 8-12<br>IBU range: 30-60",
          "European Sour Ale<br>Origin:  <br>ABV range:  - <br>IBU range:  - ",
          "Berliner Weisse<br>Origin: Germany<br>ABV range: 2.8-3.8<br>IBU range: 3-8",
          "Flanders Red Ale<br>Origin: Belgium<br>ABV range: 4.6-6.5<br>IBU range: 10-25",
          "Oud Bruin<br>Origin: Belgium<br>ABV range: 4-8<br>IBU range: 20-25",
          "Lambic<br>Origin: Belgium<br>ABV range: 5-6.5<br>IBU range: 0-10",
          "Gueuze <br>Origin: Belgium<br>ABV range: 5-8<br>IBU range: 0-10",
          "Fruit Lambic<br>Origin: Belgium<br>ABV range: 5-7<br>IBU range: 0-10",
          "Belgian Ale<br>Origin:  <br>ABV range:  - <br>IBU range:  - ",
          "Witbier<br>Origin: Belgium<br>ABV range: 4.5-5.5<br>IBU range: 8-20",
          "Belgian Pale Ale<br>Origin: Belgium<br>ABV range: 4.8-5.5<br>IBU range: 20-30",
          "Bière de Garde<br>Origin: France<br>ABV range: 6-8.5<br>IBU range: 18-28",
          "Strong Belgian Ale<br>Origin:  <br>ABV range:  - <br>IBU range:  - ",
          "Belgian Blond Ale<br>Origin: Belgium<br>ABV range: 6-7.5<br>IBU range: 15-30",
          "Saison<br>Origin: Belgium<br>ABV range: 3.5-9.5<br>IBU range: 20-35",
          "Belgian Golden Strong Ale<br>Origin: Belgium<br>ABV range: 7.5-10.5<br>IBU range: 22-35",
          "Trappist Ale<br>Origin:  <br>ABV range:  - <br>IBU range:  - ",
          "Trappist Single<br>Origin: Belgium<br>ABV range: 4.8-6<br>IBU range: 25-45",
          "Belgian Dubbel<br>Origin: Belgium<br>ABV range: 6-7.6<br>IBU range: 15-25",
          "Belgian Tripel<br>Origin: Belgium<br>ABV range: 7.5-9.5<br>IBU range: 20-40",
          "Belgian Dark Strong Ale<br>Origin: Belgium<br>ABV range: 8-12<br>IBU range: 20-35",
          "Historical Beer<br>Origin:  <br>ABV range:  - <br>IBU range:  - ",
          "Gose<br>Origin: Germany<br>ABV range: 4.2-4.8<br>IBU range: 5-12",
          "Kentucky Common<br>Origin: United States<br>ABV range: 4-5.5<br>IBU range: 15-30",
          "Lichtenhainer<br>Origin: Germany<br>ABV range: 3.5-4.7<br>IBU range: 5-12",
          "London Brown Ale<br>Origin: England<br>ABV range: 2.8-3.6<br>IBU range: 15-20",
          "Piwo Grodziskie<br>Origin: Poland<br>ABV range: 2.5-3.3<br>IBU range: 20-35",
          "Pre-Prohibition Lager<br>Origin: United States<br>ABV range: 4.5-6<br>IBU range: 25-40",
          "Pre-Prohibition Porter<br>Origin: United States<br>ABV range: 4.5-6<br>IBU range: 20-30",
          "Roggenbier<br>Origin: Germany<br>ABV range: 4.5-6<br>IBU range: 10-20",
          "Sahti<br>Origin: Scandinavia<br>ABV range: 7-11<br>IBU range: 7-15",
          "American Wild Ale<br>Origin:  <br>ABV range:  - <br>IBU range:  - ",
          "Brett Beer<br>Origin: Specialty Beer<br>ABV range:  -Variable by base style<br>IBU range:  -Variable by base style",
          "Mixed-Fermentation Sour Beer<br>Origin: Specialty Beer<br>ABV range:  -Variable by base style<br>IBU range:  -Variable by base style",
          "Wild Specialty Beer<br>Origin: Specialty Beer<br>ABV range:  -Variable by base style<br>IBU range:  -Variable by base style",
          "Fruit Beer<br>Origin:  <br>ABV range:  - <br>IBU range:  - ",
          "Fruit and Spice Beer<br>Origin: Specialty Beer<br>ABV range:  -Vary depending on the underlying base beer, but the fruit will often be reflected in the color<br>IBU range:  -Variable by base style",
          "Specialty Fruit Beer<br>Origin: Specialty Beer<br>ABV range:  -Vary depending on the underlying base beer, but the fruit will often be reflected in the color<br>IBU range:  -Variable by base style",
          "Spiced Beer<br>Origin:  <br>ABV range:  - <br>IBU range:  - ",
          "Spice, Herb, or Vegetable Beer<br>Origin: Specialty Beer<br>ABV range:  -Vary depending on the underlying base beer<br>IBU range:  -Variable by base style",
          "Autumn Seasonal Beer<br>Origin: Specialty Beer<br>ABV range:  -Vary depending on the underlying base beer. ABV is generally above 5%, and most examples are somewhat amber-copper in color<br>IBU range:  -Variable by base style",
          "Winter Seasonal Beer<br>Origin: Specialty Beer<br>ABV range:  -Vary depending on the underlying base beer. ABV is generally above 6%, and most examples are somewhat dark in color<br>IBU range:  -Variable by base style",
          "Alternative Fermentables Beer<br>Origin:  <br>ABV range:  - <br>IBU range:  - ",
          "Alternative Grain Beer<br>Origin: Specialty Beer<br>ABV range:  -Vary depending on the underlying base beer<br>IBU range:  -Variable by base style",
          "Alternative Sugar Beer<br>Origin: Specialty Beer<br>ABV range:  -Vary depending on the underlying base beer<br>IBU range:  -Variable by base style",
          "Smoked Beer<br>Origin:  <br>ABV range:  - <br>IBU range:  - ",
          "Classic Style Smoked Beer<br>Origin: Specialty Beer<br>ABV range:  -Varies with the base beer style<br>IBU range:  -Variable by base style",
          "Specialty Smoked Beer<br>Origin: Specialty Beer<br>ABV range:  -Varies with the base beer style<br>IBU range:  -Variable by base style",
          "Wood Beer<br>Origin:  <br>ABV range:  - <br>IBU range:  - ",
          "Wood-Aged Beer<br>Origin: Specialty Beer<br>ABV range:  -Varies with base style, typically above-average<br>IBU range:  -Variable by base style",
          "Specialty Wood-Aged Beer<br>Origin: Specialty Beer<br>ABV range:  -Varies with base style, typically above-average<br>IBU range:  -Variable by base style",
          "Specialty Beer<br>Origin:  <br>ABV range:  - <br>IBU range:  - ",
          "Clone Beer<br>Origin: Specialty Beer<br>ABV range:  -Vary depending on the declared beer<br>IBU range:  -Variable by base style",
          "Mixed-Style Beer<br>Origin: Specialty Beer<br>ABV range:  -Vary depending on the declared beer<br>IBU range:  -Variable by base style",
          "Experimental Beer<br>Origin: Specialty Beer<br>ABV range:  -Vary depending on the declared beer<br>IBU range:  -Variable by base style"
         ],
         "marker": {
          "color": [
           "#000cb8",
           "#FFD878",
           "#FFCA5A",
           "#FFBF42",
           "#FFBF42",
           "#000cb8",
           "#FFBF42",
           "#DE7C00",
           "#A63E00",
           "#000cb8",
           "#FFBF42",
           "#FBB123",
           "#CB6200",
           "#821E00",
           "#000cb8",
           "#FFBF42",
           "#F8A600",
           "#EA8F00",
           "#000cb8",
           "#FFBF42",
           "#FFBF42",
           "#F8A600",
           "#FFBF42",
           "#000cb8",
           "#CF6900",
           "#B04500",
           "#A63E00",
           "#000cb8",
           "#CF6900",
           "#C35900",
           "#FBB123",
           "#CF6900",
           "#000cb8",
           "#952D00",
           "#821E00",
           "#000cb8",
           "#B54C00",
           "#821E00",
           "#821E00",
           "#000cb8",
           "#FFBF42",
           "#A63E00",
           "#B54C00",
           "#000cb8",
           "#D77200",
           "#CF6900",
           "#CB6200",
           "#000cb8",
           "#FFBF42",
           "#F8A600",
           "#DE7C00",
           "#000cb8",
           "#A63E00",
           "#B04500",
           "#7B1A00",
           "#000cb8",
           "#9B3200",
           "#A63E00",
           "#A63E00",
           "#000cb8",
           "#CF6900",
           "#600903",
           "#600903",
           "#000cb8",
           "#470606",
           "#5A0A02",
           "#470606",
           "#470606",
           "#000cb8",
           "#BB5100",
           "#B54C00",
           "#9B3200",
           "#BB5100",
           "#000cb8",
           "#FFBF42",
           "#EA8F00",
           "#000cb8",
           "#C35900",
           "#CF6900",
           "#771900",
           "#000cb8",
           "#5A0A02",
           "#470606",
           "#470606",
           "#000cb8",
           "#DE7C00",
           "#DE7C00",
           "#600903",
           "#BB5100",
           "#BB5100",
           "#DE7C00",
           "#F8A600",
           "#000cb8",
           "#DE7C00",
           "#CB6200",
           "#C35900",
           "#CF6900",
           "#000cb8",
           "#FFD878",
           "#CB6200",
           "#A63E00",
           "#FBB123",
           "#FBB123",
           "#FBB123",
           "#000cb8",
           "#FFCA5A",
           "#D77200",
           "#CF6900",
           "#000cb8",
           "#F8A600",
           "#C35900",
           "#FFBF42",
           "#000cb8",
           "#FFBF42",
           "#C35900",
           "#F8A600",
           "#B04500",
           "#000cb8",
           "#FFBF42",
           "#B54C00",
           "#FFBF42",
           "#6A0E00",
           "#FFBF42",
           "#FFBF42",
           "#821E00",
           "#B54C00",
           "#CB6200",
           "#000cb8",
           "gray",
           "gray",
           "gray",
           "#000cb8",
           "gray",
           "gray",
           "#000cb8",
           "gray",
           "gray",
           "gray",
           "#000cb8",
           "gray",
           "gray",
           "#000cb8",
           "gray",
           "gray",
           "#000cb8",
           "gray",
           "gray",
           "#000cb8",
           "gray",
           "gray",
           "gray"
          ],
          "size": 15
         },
         "mode": "markers",
         "type": "scatter",
         "x": [
          1,
          0,
          0,
          0,
          2,
          5,
          4,
          4,
          6,
          9,
          8,
          9,
          10,
          9,
          13,
          12,
          13,
          14,
          17,
          16,
          17,
          18,
          17,
          21,
          20,
          22,
          21,
          1,
          0,
          0,
          2,
          2,
          5,
          4,
          6,
          9,
          8,
          8,
          10,
          13,
          13,
          12,
          14,
          17,
          16,
          17,
          18,
          21,
          20,
          22,
          22,
          1,
          0,
          2,
          1,
          5,
          4,
          5,
          6,
          9,
          8,
          10,
          10,
          13,
          12,
          13,
          14,
          13,
          17,
          16,
          16,
          18,
          18,
          21,
          20,
          22,
          1,
          0,
          0,
          2,
          5,
          4,
          6,
          6,
          9,
          8,
          8,
          9,
          9,
          10,
          10,
          10,
          13,
          12,
          12,
          14,
          14,
          17,
          16,
          17,
          18,
          16,
          17,
          18,
          21,
          20,
          22,
          22,
          1,
          0,
          2,
          1,
          5,
          4,
          4,
          6,
          6,
          9,
          8,
          8,
          8,
          9,
          9,
          10,
          10,
          10,
          8,
          13,
          12,
          14,
          14,
          17,
          18,
          18,
          21,
          20,
          21,
          22,
          1,
          0,
          2,
          5,
          5,
          5,
          9,
          8,
          10,
          13,
          12,
          14,
          13
         ],
         "y": [
          1,
          0,
          2,
          2,
          2,
          1,
          0,
          2,
          1,
          1,
          1,
          2,
          1,
          0,
          1,
          0,
          2,
          0,
          1,
          1,
          2,
          1,
          0,
          1,
          2,
          2,
          0,
          5,
          4,
          6,
          4,
          6,
          5,
          5,
          5,
          5,
          4,
          6,
          5,
          5,
          4,
          6,
          6,
          5,
          4,
          6,
          4,
          5,
          5,
          6,
          4,
          9,
          10,
          10,
          8,
          9,
          8,
          10,
          8,
          9,
          9,
          10,
          8,
          9,
          9,
          10,
          9,
          8,
          9,
          8,
          10,
          8,
          10,
          9,
          9,
          9,
          13,
          12,
          14,
          13,
          13,
          13,
          12,
          14,
          13,
          13,
          14,
          12,
          14,
          12,
          13,
          14,
          13,
          12,
          14,
          12,
          14,
          13,
          12,
          12,
          12,
          14,
          14,
          14,
          13,
          13,
          12,
          14,
          17,
          18,
          18,
          16,
          17,
          16,
          18,
          16,
          18,
          17,
          16,
          17,
          18,
          16,
          18,
          16,
          17,
          18,
          19,
          17,
          17,
          16,
          18,
          17,
          16,
          18,
          17,
          16,
          18,
          16,
          21,
          21,
          21,
          21,
          20,
          22,
          21,
          22,
          20,
          21,
          22,
          22,
          20
         ]
        }
       ],
       "layout": {
        "annotations": [
         {
          "font": {
           "family": "Arial",
           "size": 12
          },
          "showarrow": false,
          "text": "Blue nodes = BJCP Categories <br> Gray nodes indicate variable color",
          "x": 0.98,
          "xref": "paper",
          "y": 0.95,
          "yref": "paper"
         }
        ],
        "height": 500,
        "hovermode": "closest",
        "margin": {
         "b": 20,
         "l": 0,
         "r": 0,
         "t": 50
        },
        "showlegend": false,
        "template": {
         "data": {
          "bar": [
           {
            "error_x": {
             "color": "#2a3f5f"
            },
            "error_y": {
             "color": "#2a3f5f"
            },
            "marker": {
             "line": {
              "color": "#E5ECF6",
              "width": 0.5
             }
            },
            "type": "bar"
           }
          ],
          "barpolar": [
           {
            "marker": {
             "line": {
              "color": "#E5ECF6",
              "width": 0.5
             }
            },
            "type": "barpolar"
           }
          ],
          "carpet": [
           {
            "aaxis": {
             "endlinecolor": "#2a3f5f",
             "gridcolor": "white",
             "linecolor": "white",
             "minorgridcolor": "white",
             "startlinecolor": "#2a3f5f"
            },
            "baxis": {
             "endlinecolor": "#2a3f5f",
             "gridcolor": "white",
             "linecolor": "white",
             "minorgridcolor": "white",
             "startlinecolor": "#2a3f5f"
            },
            "type": "carpet"
           }
          ],
          "choropleth": [
           {
            "colorbar": {
             "outlinewidth": 0,
             "ticks": ""
            },
            "type": "choropleth"
           }
          ],
          "contour": [
           {
            "colorbar": {
             "outlinewidth": 0,
             "ticks": ""
            },
            "colorscale": [
             [
              0,
              "#0d0887"
             ],
             [
              0.1111111111111111,
              "#46039f"
             ],
             [
              0.2222222222222222,
              "#7201a8"
             ],
             [
              0.3333333333333333,
              "#9c179e"
             ],
             [
              0.4444444444444444,
              "#bd3786"
             ],
             [
              0.5555555555555556,
              "#d8576b"
             ],
             [
              0.6666666666666666,
              "#ed7953"
             ],
             [
              0.7777777777777778,
              "#fb9f3a"
             ],
             [
              0.8888888888888888,
              "#fdca26"
             ],
             [
              1,
              "#f0f921"
             ]
            ],
            "type": "contour"
           }
          ],
          "contourcarpet": [
           {
            "colorbar": {
             "outlinewidth": 0,
             "ticks": ""
            },
            "type": "contourcarpet"
           }
          ],
          "heatmap": [
           {
            "colorbar": {
             "outlinewidth": 0,
             "ticks": ""
            },
            "colorscale": [
             [
              0,
              "#0d0887"
             ],
             [
              0.1111111111111111,
              "#46039f"
             ],
             [
              0.2222222222222222,
              "#7201a8"
             ],
             [
              0.3333333333333333,
              "#9c179e"
             ],
             [
              0.4444444444444444,
              "#bd3786"
             ],
             [
              0.5555555555555556,
              "#d8576b"
             ],
             [
              0.6666666666666666,
              "#ed7953"
             ],
             [
              0.7777777777777778,
              "#fb9f3a"
             ],
             [
              0.8888888888888888,
              "#fdca26"
             ],
             [
              1,
              "#f0f921"
             ]
            ],
            "type": "heatmap"
           }
          ],
          "heatmapgl": [
           {
            "colorbar": {
             "outlinewidth": 0,
             "ticks": ""
            },
            "colorscale": [
             [
              0,
              "#0d0887"
             ],
             [
              0.1111111111111111,
              "#46039f"
             ],
             [
              0.2222222222222222,
              "#7201a8"
             ],
             [
              0.3333333333333333,
              "#9c179e"
             ],
             [
              0.4444444444444444,
              "#bd3786"
             ],
             [
              0.5555555555555556,
              "#d8576b"
             ],
             [
              0.6666666666666666,
              "#ed7953"
             ],
             [
              0.7777777777777778,
              "#fb9f3a"
             ],
             [
              0.8888888888888888,
              "#fdca26"
             ],
             [
              1,
              "#f0f921"
             ]
            ],
            "type": "heatmapgl"
           }
          ],
          "histogram": [
           {
            "marker": {
             "colorbar": {
              "outlinewidth": 0,
              "ticks": ""
             }
            },
            "type": "histogram"
           }
          ],
          "histogram2d": [
           {
            "colorbar": {
             "outlinewidth": 0,
             "ticks": ""
            },
            "colorscale": [
             [
              0,
              "#0d0887"
             ],
             [
              0.1111111111111111,
              "#46039f"
             ],
             [
              0.2222222222222222,
              "#7201a8"
             ],
             [
              0.3333333333333333,
              "#9c179e"
             ],
             [
              0.4444444444444444,
              "#bd3786"
             ],
             [
              0.5555555555555556,
              "#d8576b"
             ],
             [
              0.6666666666666666,
              "#ed7953"
             ],
             [
              0.7777777777777778,
              "#fb9f3a"
             ],
             [
              0.8888888888888888,
              "#fdca26"
             ],
             [
              1,
              "#f0f921"
             ]
            ],
            "type": "histogram2d"
           }
          ],
          "histogram2dcontour": [
           {
            "colorbar": {
             "outlinewidth": 0,
             "ticks": ""
            },
            "colorscale": [
             [
              0,
              "#0d0887"
             ],
             [
              0.1111111111111111,
              "#46039f"
             ],
             [
              0.2222222222222222,
              "#7201a8"
             ],
             [
              0.3333333333333333,
              "#9c179e"
             ],
             [
              0.4444444444444444,
              "#bd3786"
             ],
             [
              0.5555555555555556,
              "#d8576b"
             ],
             [
              0.6666666666666666,
              "#ed7953"
             ],
             [
              0.7777777777777778,
              "#fb9f3a"
             ],
             [
              0.8888888888888888,
              "#fdca26"
             ],
             [
              1,
              "#f0f921"
             ]
            ],
            "type": "histogram2dcontour"
           }
          ],
          "mesh3d": [
           {
            "colorbar": {
             "outlinewidth": 0,
             "ticks": ""
            },
            "type": "mesh3d"
           }
          ],
          "parcoords": [
           {
            "line": {
             "colorbar": {
              "outlinewidth": 0,
              "ticks": ""
             }
            },
            "type": "parcoords"
           }
          ],
          "pie": [
           {
            "automargin": true,
            "type": "pie"
           }
          ],
          "scatter": [
           {
            "marker": {
             "colorbar": {
              "outlinewidth": 0,
              "ticks": ""
             }
            },
            "type": "scatter"
           }
          ],
          "scatter3d": [
           {
            "line": {
             "colorbar": {
              "outlinewidth": 0,
              "ticks": ""
             }
            },
            "marker": {
             "colorbar": {
              "outlinewidth": 0,
              "ticks": ""
             }
            },
            "type": "scatter3d"
           }
          ],
          "scattercarpet": [
           {
            "marker": {
             "colorbar": {
              "outlinewidth": 0,
              "ticks": ""
             }
            },
            "type": "scattercarpet"
           }
          ],
          "scattergeo": [
           {
            "marker": {
             "colorbar": {
              "outlinewidth": 0,
              "ticks": ""
             }
            },
            "type": "scattergeo"
           }
          ],
          "scattergl": [
           {
            "marker": {
             "colorbar": {
              "outlinewidth": 0,
              "ticks": ""
             }
            },
            "type": "scattergl"
           }
          ],
          "scattermapbox": [
           {
            "marker": {
             "colorbar": {
              "outlinewidth": 0,
              "ticks": ""
             }
            },
            "type": "scattermapbox"
           }
          ],
          "scatterpolar": [
           {
            "marker": {
             "colorbar": {
              "outlinewidth": 0,
              "ticks": ""
             }
            },
            "type": "scatterpolar"
           }
          ],
          "scatterpolargl": [
           {
            "marker": {
             "colorbar": {
              "outlinewidth": 0,
              "ticks": ""
             }
            },
            "type": "scatterpolargl"
           }
          ],
          "scatterternary": [
           {
            "marker": {
             "colorbar": {
              "outlinewidth": 0,
              "ticks": ""
             }
            },
            "type": "scatterternary"
           }
          ],
          "surface": [
           {
            "colorbar": {
             "outlinewidth": 0,
             "ticks": ""
            },
            "colorscale": [
             [
              0,
              "#0d0887"
             ],
             [
              0.1111111111111111,
              "#46039f"
             ],
             [
              0.2222222222222222,
              "#7201a8"
             ],
             [
              0.3333333333333333,
              "#9c179e"
             ],
             [
              0.4444444444444444,
              "#bd3786"
             ],
             [
              0.5555555555555556,
              "#d8576b"
             ],
             [
              0.6666666666666666,
              "#ed7953"
             ],
             [
              0.7777777777777778,
              "#fb9f3a"
             ],
             [
              0.8888888888888888,
              "#fdca26"
             ],
             [
              1,
              "#f0f921"
             ]
            ],
            "type": "surface"
           }
          ],
          "table": [
           {
            "cells": {
             "fill": {
              "color": "#EBF0F8"
             },
             "line": {
              "color": "white"
             }
            },
            "header": {
             "fill": {
              "color": "#C8D4E3"
             },
             "line": {
              "color": "white"
             }
            },
            "type": "table"
           }
          ]
         },
         "layout": {
          "annotationdefaults": {
           "arrowcolor": "#2a3f5f",
           "arrowhead": 0,
           "arrowwidth": 1
          },
          "coloraxis": {
           "colorbar": {
            "outlinewidth": 0,
            "ticks": ""
           }
          },
          "colorscale": {
           "diverging": [
            [
             0,
             "#8e0152"
            ],
            [
             0.1,
             "#c51b7d"
            ],
            [
             0.2,
             "#de77ae"
            ],
            [
             0.3,
             "#f1b6da"
            ],
            [
             0.4,
             "#fde0ef"
            ],
            [
             0.5,
             "#f7f7f7"
            ],
            [
             0.6,
             "#e6f5d0"
            ],
            [
             0.7,
             "#b8e186"
            ],
            [
             0.8,
             "#7fbc41"
            ],
            [
             0.9,
             "#4d9221"
            ],
            [
             1,
             "#276419"
            ]
           ],
           "sequential": [
            [
             0,
             "#0d0887"
            ],
            [
             0.1111111111111111,
             "#46039f"
            ],
            [
             0.2222222222222222,
             "#7201a8"
            ],
            [
             0.3333333333333333,
             "#9c179e"
            ],
            [
             0.4444444444444444,
             "#bd3786"
            ],
            [
             0.5555555555555556,
             "#d8576b"
            ],
            [
             0.6666666666666666,
             "#ed7953"
            ],
            [
             0.7777777777777778,
             "#fb9f3a"
            ],
            [
             0.8888888888888888,
             "#fdca26"
            ],
            [
             1,
             "#f0f921"
            ]
           ],
           "sequentialminus": [
            [
             0,
             "#0d0887"
            ],
            [
             0.1111111111111111,
             "#46039f"
            ],
            [
             0.2222222222222222,
             "#7201a8"
            ],
            [
             0.3333333333333333,
             "#9c179e"
            ],
            [
             0.4444444444444444,
             "#bd3786"
            ],
            [
             0.5555555555555556,
             "#d8576b"
            ],
            [
             0.6666666666666666,
             "#ed7953"
            ],
            [
             0.7777777777777778,
             "#fb9f3a"
            ],
            [
             0.8888888888888888,
             "#fdca26"
            ],
            [
             1,
             "#f0f921"
            ]
           ]
          },
          "colorway": [
           "#636efa",
           "#EF553B",
           "#00cc96",
           "#ab63fa",
           "#FFA15A",
           "#19d3f3",
           "#FF6692",
           "#B6E880",
           "#FF97FF",
           "#FECB52"
          ],
          "font": {
           "color": "#2a3f5f"
          },
          "geo": {
           "bgcolor": "white",
           "lakecolor": "white",
           "landcolor": "#E5ECF6",
           "showlakes": true,
           "showland": true,
           "subunitcolor": "white"
          },
          "hoverlabel": {
           "align": "left"
          },
          "hovermode": "closest",
          "mapbox": {
           "style": "light"
          },
          "paper_bgcolor": "white",
          "plot_bgcolor": "#E5ECF6",
          "polar": {
           "angularaxis": {
            "gridcolor": "white",
            "linecolor": "white",
            "ticks": ""
           },
           "bgcolor": "#E5ECF6",
           "radialaxis": {
            "gridcolor": "white",
            "linecolor": "white",
            "ticks": ""
           }
          },
          "scene": {
           "xaxis": {
            "backgroundcolor": "#E5ECF6",
            "gridcolor": "white",
            "gridwidth": 2,
            "linecolor": "white",
            "showbackground": true,
            "ticks": "",
            "zerolinecolor": "white"
           },
           "yaxis": {
            "backgroundcolor": "#E5ECF6",
            "gridcolor": "white",
            "gridwidth": 2,
            "linecolor": "white",
            "showbackground": true,
            "ticks": "",
            "zerolinecolor": "white"
           },
           "zaxis": {
            "backgroundcolor": "#E5ECF6",
            "gridcolor": "white",
            "gridwidth": 2,
            "linecolor": "white",
            "showbackground": true,
            "ticks": "",
            "zerolinecolor": "white"
           }
          },
          "shapedefaults": {
           "line": {
            "color": "#2a3f5f"
           }
          },
          "ternary": {
           "aaxis": {
            "gridcolor": "white",
            "linecolor": "white",
            "ticks": ""
           },
           "baxis": {
            "gridcolor": "white",
            "linecolor": "white",
            "ticks": ""
           },
           "bgcolor": "#E5ECF6",
           "caxis": {
            "gridcolor": "white",
            "linecolor": "white",
            "ticks": ""
           }
          },
          "title": {
           "x": 0.05
          },
          "xaxis": {
           "automargin": true,
           "gridcolor": "white",
           "linecolor": "white",
           "ticks": "",
           "title": {
            "standoff": 15
           },
           "zerolinecolor": "white",
           "zerolinewidth": 2
          },
          "yaxis": {
           "automargin": true,
           "gridcolor": "white",
           "linecolor": "white",
           "ticks": "",
           "title": {
            "standoff": 15
           },
           "zerolinecolor": "white",
           "zerolinewidth": 2
          }
         }
        },
        "title": {
         "font": {
          "color": "black",
          "family": "Impact",
          "size": 20
         },
         "text": "Beer Taxonomy Chart",
         "x": 0.5,
         "xanchor": "center",
         "y": 0.95
        },
        "width": 800,
        "xaxis": {
         "showgrid": false,
         "showticklabels": false,
         "zeroline": false
        },
        "yaxis": {
         "showgrid": false,
         "showticklabels": false,
         "zeroline": false
        }
       }
      },
      "text/html": [
       "<div>\n",
       "        \n",
       "        \n",
       "            <div id=\"071b1c5d-34b6-4058-9020-a507d3b5c5ed\" class=\"plotly-graph-div\" style=\"height:500px; width:800px;\"></div>\n",
       "            <script type=\"text/javascript\">\n",
       "                require([\"plotly\"], function(Plotly) {\n",
       "                    window.PLOTLYENV=window.PLOTLYENV || {};\n",
       "                    \n",
       "                if (document.getElementById(\"071b1c5d-34b6-4058-9020-a507d3b5c5ed\")) {\n",
       "                    Plotly.newPlot(\n",
       "                        '071b1c5d-34b6-4058-9020-a507d3b5c5ed',\n",
       "                        [{\"line\": {\"color\": \"gray\", \"width\": 2}, \"mode\": \"lines\", \"type\": \"scatter\", \"x\": [1.0, 0.0, null, 1.0, 0.0, null, 1.0, 0.0, null, 1.0, 2.0, null, 5.0, 4.0, null, 5.0, 4.0, null, 5.0, 6.0, null, 9.0, 8.0, null, 9.0, 9.0, null, 9.0, 10.0, null, 9.0, 9.0, null, 13.0, 12.0, null, 13.0, 13.0, null, 13.0, 14.0, null, 17.0, 16.0, null, 17.0, 17.0, null, 17.0, 18.0, null, 17.0, 17.0, null, 21.0, 20.0, null, 21.0, 22.0, null, 21.0, 21.0, null, 1.0, 0.0, null, 1.0, 0.0, null, 1.0, 2.0, null, 1.0, 2.0, null, 5.0, 4.0, null, 5.0, 6.0, null, 9.0, 8.0, null, 9.0, 8.0, null, 9.0, 10.0, null, 13.0, 13.0, null, 13.0, 12.0, null, 13.0, 14.0, null, 17.0, 16.0, null, 17.0, 17.0, null, 17.0, 18.0, null, 21.0, 20.0, null, 21.0, 22.0, null, 21.0, 22.0, null, 1.0, 0.0, null, 1.0, 2.0, null, 1.0, 1.0, null, 5.0, 4.0, null, 5.0, 5.0, null, 5.0, 6.0, null, 9.0, 8.0, null, 9.0, 10.0, null, 9.0, 10.0, null, 13.0, 12.0, null, 13.0, 13.0, null, 13.0, 14.0, null, 13.0, 13.0, null, 17.0, 16.0, null, 17.0, 16.0, null, 17.0, 18.0, null, 17.0, 18.0, null, 21.0, 20.0, null, 21.0, 22.0, null, 1.0, 0.0, null, 1.0, 0.0, null, 1.0, 2.0, null, 5.0, 4.0, null, 5.0, 6.0, null, 5.0, 6.0, null, 9.0, 8.0, null, 9.0, 8.0, null, 9.0, 9.0, null, 9.0, 9.0, null, 9.0, 10.0, null, 9.0, 10.0, null, 9.0, 10.0, null, 13.0, 12.0, null, 13.0, 12.0, null, 13.0, 14.0, null, 13.0, 14.0, null, 17.0, 16.0, null, 17.0, 17.0, null, 17.0, 18.0, null, 17.0, 16.0, null, 17.0, 17.0, null, 17.0, 18.0, null, 21.0, 20.0, null, 21.0, 22.0, null, 21.0, 22.0, null, 1.0, 0.0, null, 1.0, 2.0, null, 1.0, 1.0, null, 5.0, 4.0, null, 5.0, 4.0, null, 5.0, 6.0, null, 5.0, 6.0, null, 9.0, 8.0, null, 9.0, 8.0, null, 9.0, 8.0, null, 9.0, 9.0, null, 9.0, 9.0, null, 9.0, 10.0, null, 9.0, 10.0, null, 9.0, 10.0, null, 9.0, 8.0, null, 13.0, 12.0, null, 13.0, 14.0, null, 13.0, 14.0, null, 17.0, 17.0, null, 17.0, 18.0, null, 17.0, 18.0, null, 21.0, 20.0, null, 21.0, 21.0, null, 21.0, 22.0, null, 1.0, 0.0, null, 1.0, 2.0, null, 5.0, 5.0, null, 5.0, 5.0, null, 9.0, 8.0, null, 9.0, 10.0, null, 13.0, 12.0, null, 13.0, 14.0, null, 13.0, 13.0, null], \"y\": [1.0, 0.0, null, 1.0, 2.0, null, 1.0, 2.0, null, 1.0, 2.0, null, 1.0, 0.0, null, 1.0, 2.0, null, 1.0, 1.0, null, 1.0, 1.0, null, 1.0, 2.0, null, 1.0, 1.0, null, 1.0, 0.0, null, 1.0, 0.0, null, 1.0, 2.0, null, 1.0, 0.0, null, 1.0, 1.0, null, 1.0, 2.0, null, 1.0, 1.0, null, 1.0, 0.0, null, 1.0, 2.0, null, 1.0, 2.0, null, 1.0, 0.0, null, 5.0, 4.0, null, 5.0, 6.0, null, 5.0, 4.0, null, 5.0, 6.0, null, 5.0, 5.0, null, 5.0, 5.0, null, 5.0, 4.0, null, 5.0, 6.0, null, 5.0, 5.0, null, 5.0, 4.0, null, 5.0, 6.0, null, 5.0, 6.0, null, 5.0, 4.0, null, 5.0, 6.0, null, 5.0, 4.0, null, 5.0, 5.0, null, 5.0, 6.0, null, 5.0, 4.0, null, 9.0, 10.0, null, 9.0, 10.0, null, 9.0, 8.0, null, 9.0, 8.0, null, 9.0, 10.0, null, 9.0, 8.0, null, 9.0, 9.0, null, 9.0, 10.0, null, 9.0, 8.0, null, 9.0, 9.0, null, 9.0, 10.0, null, 9.0, 9.0, null, 9.0, 8.0, null, 9.0, 8.0, null, 9.0, 10.0, null, 9.0, 8.0, null, 9.0, 10.0, null, 9.0, 9.0, null, 9.0, 9.0, null, 13.0, 12.0, null, 13.0, 14.0, null, 13.0, 13.0, null, 13.0, 13.0, null, 13.0, 12.0, null, 13.0, 14.0, null, 13.0, 13.0, null, 13.0, 14.0, null, 13.0, 12.0, null, 13.0, 14.0, null, 13.0, 12.0, null, 13.0, 13.0, null, 13.0, 14.0, null, 13.0, 12.0, null, 13.0, 14.0, null, 13.0, 12.0, null, 13.0, 14.0, null, 13.0, 12.0, null, 13.0, 12.0, null, 13.0, 12.0, null, 13.0, 14.0, null, 13.0, 14.0, null, 13.0, 14.0, null, 13.0, 13.0, null, 13.0, 12.0, null, 13.0, 14.0, null, 17.0, 18.0, null, 17.0, 18.0, null, 17.0, 16.0, null, 17.0, 16.0, null, 17.0, 18.0, null, 17.0, 16.0, null, 17.0, 18.0, null, 17.0, 16.0, null, 17.0, 17.0, null, 17.0, 18.0, null, 17.0, 16.0, null, 17.0, 18.0, null, 17.0, 16.0, null, 17.0, 17.0, null, 17.0, 18.0, null, 17.0, 19.0, null, 17.0, 17.0, null, 17.0, 16.0, null, 17.0, 18.0, null, 17.0, 17.0, null, 17.0, 16.0, null, 17.0, 18.0, null, 17.0, 16.0, null, 17.0, 18.0, null, 17.0, 16.0, null, 21.0, 21.0, null, 21.0, 21.0, null, 21.0, 20.0, null, 21.0, 22.0, null, 21.0, 22.0, null, 21.0, 20.0, null, 21.0, 22.0, null, 21.0, 22.0, null, 21.0, 20.0, null]}, {\"hoverinfo\": \"text\", \"hovertext\": [\"Standard American Beer<br>Origin:  <br>ABV range:  - <br>IBU range:  - \", \"American Light Lager<br>Origin: United States<br>ABV range: 2.8-4.2<br>IBU range: 8-12\", \"American Lager<br>Origin: United States<br>ABV range: 4.2-5.3<br>IBU range: 8-18\", \"Cream Ale<br>Origin: United States<br>ABV range: 4.2-5.6<br>IBU range: 8-20\", \"American Wheat Beer<br>Origin: United States<br>ABV range: 4-5.5<br>IBU range: 15-30\", \"International Lager<br>Origin:  <br>ABV range:  - <br>IBU range:  - \", \"International Pale Lager<br>Origin: International<br>ABV range: 4.6-6<br>IBU range: 18-25\", \"International Amber Lager<br>Origin: International<br>ABV range: 4.6-6<br>IBU range: 8-25\", \"International Dark Lager<br>Origin: International<br>ABV range: 4.2-6<br>IBU range: 8-20\", \"Czech Lager<br>Origin:  <br>ABV range:  - <br>IBU range:  - \", \"Czech Pale Lager<br>Origin: Czech Republic<br>ABV range: 3-4.1<br>IBU range: 20-35\", \"Czech Premium Pale Lager<br>Origin: Czech Republic<br>ABV range: 4.2-5.8<br>IBU range: 30-45\", \"Czech Amber Lager<br>Origin: Czech Republic<br>ABV range: 4.4-5.8<br>IBU range: 20-35\", \"Czech Dark Lager<br>Origin: Czech Republic<br>ABV range: 4.4-5.8<br>IBU range: 18-34\", \"Pale Malty European Lager<br>Origin:  <br>ABV range:  - <br>IBU range:  - \", \"Munich Helles<br>Origin: Germany<br>ABV range: 4.7-5.4<br>IBU range: 16-22\", \"Festbier<br>Origin: Germany<br>ABV range: 5.8-6.3<br>IBU range: 18-25\", \"Helles Bock<br>Origin: Germany<br>ABV range: 6.3-7.4<br>IBU range: 23-35\", \"Pale Bitter European beer<br>Origin:  <br>ABV range:  - <br>IBU range:  - \", \"German Leichtbier<br>Origin: Germany<br>ABV range: 2.4-3.6<br>IBU range: 15-28\", \"K\\u00f6lsch<br>Origin: Germany<br>ABV range: 4.4-5.2<br>IBU range: 18-30\", \"German Helles Exportbier<br>Origin: Germany<br>ABV range: 4.8-6<br>IBU range: 20-30\", \"German Pils<br>Origin: Germany<br>ABV range: 4.4-5.2<br>IBU range: 22-40\", \"Amber Malty European Lager<br>Origin:  <br>ABV range:  - <br>IBU range:  - \", \"M\\u00e4rzen<br>Origin: Germany<br>ABV range: 5.8-6.3<br>IBU range: 18-24\", \"Rauchbier<br>Origin: Germany<br>ABV range: 4.8-6<br>IBU range: 20-30\", \"Dunkles Bock<br>Origin: Germany<br>ABV range: 6.3-7.2<br>IBU range: 20-27\", \"Amber Bitter European Beer<br>Origin:  <br>ABV range:  - <br>IBU range:  - \", \"Vienna Lager<br>Origin: Austria<br>ABV range: 4.7-5.5<br>IBU range: 18-30\", \"Altbier<br>Origin: Germany<br>ABV range: 4.3-5.5<br>IBU range: 25-50\", \"Pale Kellerbier<br>Origin: Germany<br>ABV range: 4.7-5.4<br>IBU range: 20-35\", \"Amber Kellerbier<br>Origin: Germany<br>ABV range: 4.8-5.4<br>IBU range: 25-40\", \"Dark European Lager<br>Origin:  <br>ABV range:  - <br>IBU range:  - \", \"Munich Dunkel<br>Origin: Germany<br>ABV range: 4.5-5.6<br>IBU range: 18-28\", \"Schwarzbier<br>Origin: Germany<br>ABV range: 4.4-5.4<br>IBU range: 20-30\", \"Strong European Beer<br>Origin:  <br>ABV range:  - <br>IBU range:  - \", \"Doppelbock<br>Origin: Germany<br>ABV range: 7-10<br>IBU range: 16-26\", \"Eisbock<br>Origin: Germany<br>ABV range: 9-14<br>IBU range: 25-35\", \"Baltic Porter<br>Origin: Scandinavia<br>ABV range: 6.5-9.5<br>IBU range: 20-40\", \"German Wheat Beer<br>Origin:  <br>ABV range:  - <br>IBU range:  - \", \"Weissbier<br>Origin: Germany<br>ABV range: 4.3-5.6<br>IBU range: 8-15\", \"Dunkles Weissbier<br>Origin: Germany<br>ABV range: 4.3-5.6<br>IBU range: 10-18\", \"Weizenbock<br>Origin: Germany<br>ABV range: 6.5-9<br>IBU range: 15-30\", \"British Bitter<br>Origin:  <br>ABV range:  - <br>IBU range:  - \", \"Ordinary Bitter<br>Origin: England<br>ABV range: 3.2-3.8<br>IBU range: 25-35\", \"Best Bitter<br>Origin: England<br>ABV range: 3.8-4.6<br>IBU range: 25-40\", \"Strong Bitter<br>Origin: England<br>ABV range: 4.6-6.2<br>IBU range: 30-50\", \"Pale Commonwealth Beer<br>Origin:  <br>ABV range:  - <br>IBU range:  - \", \"British Golden Ale<br>Origin: England<br>ABV range: 3.8-5<br>IBU range: 20-45\", \"Australian Sparkling Ale<br>Origin: Australian<br>ABV range: 4.5-6<br>IBU range: 20-35\", \"English IPA<br>Origin: England<br>ABV range: 5-7.5<br>IBU range: 40-60\", \"Brown British Beer<br>Origin:  <br>ABV range:  - <br>IBU range:  - \", \"Dark Mild<br>Origin: England<br>ABV range: 3-3.8<br>IBU range: 10-25\", \"British Brown Ale<br>Origin: England<br>ABV range: 4.2-5.4<br>IBU range: 20-30\", \"English Porter<br>Origin: England<br>ABV range: 4-5.4<br>IBU range: 18-35\", \"Scottish Ale<br>Origin:  <br>ABV range:  - <br>IBU range:  - \", \"Scottish Light<br>Origin: Scotland<br>ABV range: 2.5-3.2<br>IBU range: 10-20\", \"Scottish Heavy<br>Origin: Scotland<br>ABV range: 3.2-3.9<br>IBU range: 10-20\", \"Scottish Export<br>Origin: Scotland<br>ABV range: 3.9-6<br>IBU range: 15-30\", \"Irish Beer<br>Origin:  <br>ABV range:  - <br>IBU range:  - \", \"Irish Red Ale<br>Origin: Ireland<br>ABV range: 3.8-5<br>IBU range: 18-28\", \"Irish Stout<br>Origin: Ireland<br>ABV range: 4-4.5<br>IBU range: 25-45\", \"Irish Extra Stout<br>Origin: Ireland<br>ABV range: 5.5-6.5<br>IBU range: 35-50\", \"Dark British Beer<br>Origin:  <br>ABV range:  - <br>IBU range:  - \", \"Sweet Stout<br>Origin: England<br>ABV range: 4-6<br>IBU range: 20-40\", \"Oatmeal Stout<br>Origin: England<br>ABV range: 4.2-5.9<br>IBU range: 25-40\", \"Tropical Stout<br>Origin: England<br>ABV range: 5.5-8<br>IBU range: 30-50\", \"Foreign Extra Stout<br>Origin: England<br>ABV range: 6.3-8<br>IBU range: 50-70\", \"Strong British Ale<br>Origin:  <br>ABV range:  - <br>IBU range:  - \", \"British Strong Ale<br>Origin: England<br>ABV range: 5.5-8<br>IBU range: 30-60\", \"Old Ale<br>Origin: England<br>ABV range: 5.5-9<br>IBU range: 30-60\", \"Wee Heavy<br>Origin: Scotland<br>ABV range: 6.5-10<br>IBU range: 17-35\", \"English Barleywine<br>Origin: England<br>ABV range: 8-12<br>IBU range: 35-70\", \"Pale American Ale<br>Origin:  <br>ABV range:  - <br>IBU range:  - \", \"Blonde Ale<br>Origin: United States<br>ABV range: 3.8-5.5<br>IBU range: 15-28\", \"American Pale Ale<br>Origin: United States<br>ABV range: 4.5-6.2<br>IBU range: 30-50\", \"Amber and Brown American Beer<br>Origin:  <br>ABV range:  - <br>IBU range:  - \", \"American Amber Ale<br>Origin: United States<br>ABV range: 4.5-6.2<br>IBU range: 25-40\", \"California Common <br>Origin: United States<br>ABV range: 4.5-5.5<br>IBU range: 30-45\", \"American Brown Ale<br>Origin: United States<br>ABV range: 4.3-6.2<br>IBU range: 20-30\", \"American Porter and Stout<br>Origin:  <br>ABV range:  - <br>IBU range:  - \", \"American Porter<br>Origin: United States<br>ABV range: 4.8-6.5<br>IBU range: 25-50\", \"American Stout<br>Origin: United States<br>ABV range: 5-7<br>IBU range: 35-75\", \"Imperial Stout<br>Origin: England<br>ABV range: 8-12<br>IBU range: 50-90\", \"IPA<br>Origin:  <br>ABV range:  - <br>IBU range:  - \", \"American IPA<br>Origin: United States<br>ABV range: 5.5-7.5<br>IBU range: 40-70\", \"Specialty IPA - Belgian IPA<br>Origin: United States<br>ABV range: 6.2-9.5<br>IBU range: 50-100\", \"Specialty IPA - Black IPA<br>Origin: United States<br>ABV range: 5.5-9<br>IBU range: 50-90\", \"Specialty IPA - Brown IPA<br>Origin: United States<br>ABV range: 5.5-7.5<br>IBU range: 40-70\", \"Specialty IPA - Red IPA<br>Origin: United States<br>ABV range: 5.5-7.5<br>IBU range: 40-70\", \"Specialty IPA - Rye IPA<br>Origin: United States<br>ABV range: 5.5-8<br>IBU range: 50-75\", \"Specialty IPA - White IPA<br>Origin: United States<br>ABV range: 5.5-7<br>IBU range: 40-70\", \"Strong American Ale<br>Origin:  <br>ABV range:  - <br>IBU range:  - \", \"Double IPA<br>Origin: United States<br>ABV range: 7.5-10<br>IBU range: 60-120\", \"American Strong Ale<br>Origin: United States<br>ABV range: 6.3-10<br>IBU range: 50-100\", \"American Barleywine<br>Origin: United States<br>ABV range: 8-12<br>IBU range: 50-100\", \"Wheatwine<br>Origin: United States<br>ABV range: 8-12<br>IBU range: 30-60\", \"European Sour Ale<br>Origin:  <br>ABV range:  - <br>IBU range:  - \", \"Berliner Weisse<br>Origin: Germany<br>ABV range: 2.8-3.8<br>IBU range: 3-8\", \"Flanders Red Ale<br>Origin: Belgium<br>ABV range: 4.6-6.5<br>IBU range: 10-25\", \"Oud Bruin<br>Origin: Belgium<br>ABV range: 4-8<br>IBU range: 20-25\", \"Lambic<br>Origin: Belgium<br>ABV range: 5-6.5<br>IBU range: 0-10\", \"Gueuze <br>Origin: Belgium<br>ABV range: 5-8<br>IBU range: 0-10\", \"Fruit Lambic<br>Origin: Belgium<br>ABV range: 5-7<br>IBU range: 0-10\", \"Belgian Ale<br>Origin:  <br>ABV range:  - <br>IBU range:  - \", \"Witbier<br>Origin: Belgium<br>ABV range: 4.5-5.5<br>IBU range: 8-20\", \"Belgian Pale Ale<br>Origin: Belgium<br>ABV range: 4.8-5.5<br>IBU range: 20-30\", \"Bi\\u00e8re de Garde<br>Origin: France<br>ABV range: 6-8.5<br>IBU range: 18-28\", \"Strong Belgian Ale<br>Origin:  <br>ABV range:  - <br>IBU range:  - \", \"Belgian Blond Ale<br>Origin: Belgium<br>ABV range: 6-7.5<br>IBU range: 15-30\", \"Saison<br>Origin: Belgium<br>ABV range: 3.5-9.5<br>IBU range: 20-35\", \"Belgian Golden Strong Ale<br>Origin: Belgium<br>ABV range: 7.5-10.5<br>IBU range: 22-35\", \"Trappist Ale<br>Origin:  <br>ABV range:  - <br>IBU range:  - \", \"Trappist Single<br>Origin: Belgium<br>ABV range: 4.8-6<br>IBU range: 25-45\", \"Belgian Dubbel<br>Origin: Belgium<br>ABV range: 6-7.6<br>IBU range: 15-25\", \"Belgian Tripel<br>Origin: Belgium<br>ABV range: 7.5-9.5<br>IBU range: 20-40\", \"Belgian Dark Strong Ale<br>Origin: Belgium<br>ABV range: 8-12<br>IBU range: 20-35\", \"Historical Beer<br>Origin:  <br>ABV range:  - <br>IBU range:  - \", \"Gose<br>Origin: Germany<br>ABV range: 4.2-4.8<br>IBU range: 5-12\", \"Kentucky Common<br>Origin: United States<br>ABV range: 4-5.5<br>IBU range: 15-30\", \"Lichtenhainer<br>Origin: Germany<br>ABV range: 3.5-4.7<br>IBU range: 5-12\", \"London Brown Ale<br>Origin: England<br>ABV range: 2.8-3.6<br>IBU range: 15-20\", \"Piwo Grodziskie<br>Origin: Poland<br>ABV range: 2.5-3.3<br>IBU range: 20-35\", \"Pre-Prohibition Lager<br>Origin: United States<br>ABV range: 4.5-6<br>IBU range: 25-40\", \"Pre-Prohibition Porter<br>Origin: United States<br>ABV range: 4.5-6<br>IBU range: 20-30\", \"Roggenbier<br>Origin: Germany<br>ABV range: 4.5-6<br>IBU range: 10-20\", \"Sahti<br>Origin: Scandinavia<br>ABV range: 7-11<br>IBU range: 7-15\", \"American Wild Ale<br>Origin:  <br>ABV range:  - <br>IBU range:  - \", \"Brett Beer<br>Origin: Specialty Beer<br>ABV range:  -Variable by base style<br>IBU range:  -Variable by base style\", \"Mixed-Fermentation Sour Beer<br>Origin: Specialty Beer<br>ABV range:  -Variable by base style<br>IBU range:  -Variable by base style\", \"Wild Specialty Beer<br>Origin: Specialty Beer<br>ABV range:  -Variable by base style<br>IBU range:  -Variable by base style\", \"Fruit Beer<br>Origin:  <br>ABV range:  - <br>IBU range:  - \", \"Fruit and Spice Beer<br>Origin: Specialty Beer<br>ABV range:  -Vary depending on the underlying base beer, but the fruit will often be reflected in the color<br>IBU range:  -Variable by base style\", \"Specialty Fruit Beer<br>Origin: Specialty Beer<br>ABV range:  -Vary depending on the underlying base beer, but the fruit will often be reflected in the color<br>IBU range:  -Variable by base style\", \"Spiced Beer<br>Origin:  <br>ABV range:  - <br>IBU range:  - \", \"Spice, Herb, or Vegetable Beer<br>Origin: Specialty Beer<br>ABV range:  -Vary depending on the underlying base beer<br>IBU range:  -Variable by base style\", \"Autumn Seasonal Beer<br>Origin: Specialty Beer<br>ABV range:  -Vary depending on the underlying base beer. ABV is generally above 5%, and most examples are somewhat amber-copper in color<br>IBU range:  -Variable by base style\", \"Winter Seasonal Beer<br>Origin: Specialty Beer<br>ABV range:  -Vary depending on the underlying base beer. ABV is generally above 6%, and most examples are somewhat dark in color<br>IBU range:  -Variable by base style\", \"Alternative Fermentables Beer<br>Origin:  <br>ABV range:  - <br>IBU range:  - \", \"Alternative Grain Beer<br>Origin: Specialty Beer<br>ABV range:  -Vary depending on the underlying base beer<br>IBU range:  -Variable by base style\", \"Alternative Sugar Beer<br>Origin: Specialty Beer<br>ABV range:  -Vary depending on the underlying base beer<br>IBU range:  -Variable by base style\", \"Smoked Beer<br>Origin:  <br>ABV range:  - <br>IBU range:  - \", \"Classic Style Smoked Beer<br>Origin: Specialty Beer<br>ABV range:  -Varies with the base beer style<br>IBU range:  -Variable by base style\", \"Specialty Smoked Beer<br>Origin: Specialty Beer<br>ABV range:  -Varies with the base beer style<br>IBU range:  -Variable by base style\", \"Wood Beer<br>Origin:  <br>ABV range:  - <br>IBU range:  - \", \"Wood-Aged Beer<br>Origin: Specialty Beer<br>ABV range:  -Varies with base style, typically above-average<br>IBU range:  -Variable by base style\", \"Specialty Wood-Aged Beer<br>Origin: Specialty Beer<br>ABV range:  -Varies with base style, typically above-average<br>IBU range:  -Variable by base style\", \"Specialty Beer<br>Origin:  <br>ABV range:  - <br>IBU range:  - \", \"Clone Beer<br>Origin: Specialty Beer<br>ABV range:  -Vary depending on the declared beer<br>IBU range:  -Variable by base style\", \"Mixed-Style Beer<br>Origin: Specialty Beer<br>ABV range:  -Vary depending on the declared beer<br>IBU range:  -Variable by base style\", \"Experimental Beer<br>Origin: Specialty Beer<br>ABV range:  -Vary depending on the declared beer<br>IBU range:  -Variable by base style\"], \"marker\": {\"color\": [\"#000cb8\", \"#FFD878\", \"#FFCA5A\", \"#FFBF42\", \"#FFBF42\", \"#000cb8\", \"#FFBF42\", \"#DE7C00\", \"#A63E00\", \"#000cb8\", \"#FFBF42\", \"#FBB123\", \"#CB6200\", \"#821E00\", \"#000cb8\", \"#FFBF42\", \"#F8A600\", \"#EA8F00\", \"#000cb8\", \"#FFBF42\", \"#FFBF42\", \"#F8A600\", \"#FFBF42\", \"#000cb8\", \"#CF6900\", \"#B04500\", \"#A63E00\", \"#000cb8\", \"#CF6900\", \"#C35900\", \"#FBB123\", \"#CF6900\", \"#000cb8\", \"#952D00\", \"#821E00\", \"#000cb8\", \"#B54C00\", \"#821E00\", \"#821E00\", \"#000cb8\", \"#FFBF42\", \"#A63E00\", \"#B54C00\", \"#000cb8\", \"#D77200\", \"#CF6900\", \"#CB6200\", \"#000cb8\", \"#FFBF42\", \"#F8A600\", \"#DE7C00\", \"#000cb8\", \"#A63E00\", \"#B04500\", \"#7B1A00\", \"#000cb8\", \"#9B3200\", \"#A63E00\", \"#A63E00\", \"#000cb8\", \"#CF6900\", \"#600903\", \"#600903\", \"#000cb8\", \"#470606\", \"#5A0A02\", \"#470606\", \"#470606\", \"#000cb8\", \"#BB5100\", \"#B54C00\", \"#9B3200\", \"#BB5100\", \"#000cb8\", \"#FFBF42\", \"#EA8F00\", \"#000cb8\", \"#C35900\", \"#CF6900\", \"#771900\", \"#000cb8\", \"#5A0A02\", \"#470606\", \"#470606\", \"#000cb8\", \"#DE7C00\", \"#DE7C00\", \"#600903\", \"#BB5100\", \"#BB5100\", \"#DE7C00\", \"#F8A600\", \"#000cb8\", \"#DE7C00\", \"#CB6200\", \"#C35900\", \"#CF6900\", \"#000cb8\", \"#FFD878\", \"#CB6200\", \"#A63E00\", \"#FBB123\", \"#FBB123\", \"#FBB123\", \"#000cb8\", \"#FFCA5A\", \"#D77200\", \"#CF6900\", \"#000cb8\", \"#F8A600\", \"#C35900\", \"#FFBF42\", \"#000cb8\", \"#FFBF42\", \"#C35900\", \"#F8A600\", \"#B04500\", \"#000cb8\", \"#FFBF42\", \"#B54C00\", \"#FFBF42\", \"#6A0E00\", \"#FFBF42\", \"#FFBF42\", \"#821E00\", \"#B54C00\", \"#CB6200\", \"#000cb8\", \"gray\", \"gray\", \"gray\", \"#000cb8\", \"gray\", \"gray\", \"#000cb8\", \"gray\", \"gray\", \"gray\", \"#000cb8\", \"gray\", \"gray\", \"#000cb8\", \"gray\", \"gray\", \"#000cb8\", \"gray\", \"gray\", \"#000cb8\", \"gray\", \"gray\", \"gray\"], \"size\": 15}, \"mode\": \"markers\", \"type\": \"scatter\", \"x\": [1.0, 0.0, 0.0, 0.0, 2.0, 5.0, 4.0, 4.0, 6.0, 9.0, 8.0, 9.0, 10.0, 9.0, 13.0, 12.0, 13.0, 14.0, 17.0, 16.0, 17.0, 18.0, 17.0, 21.0, 20.0, 22.0, 21.0, 1.0, 0.0, 0.0, 2.0, 2.0, 5.0, 4.0, 6.0, 9.0, 8.0, 8.0, 10.0, 13.0, 13.0, 12.0, 14.0, 17.0, 16.0, 17.0, 18.0, 21.0, 20.0, 22.0, 22.0, 1.0, 0.0, 2.0, 1.0, 5.0, 4.0, 5.0, 6.0, 9.0, 8.0, 10.0, 10.0, 13.0, 12.0, 13.0, 14.0, 13.0, 17.0, 16.0, 16.0, 18.0, 18.0, 21.0, 20.0, 22.0, 1.0, 0.0, 0.0, 2.0, 5.0, 4.0, 6.0, 6.0, 9.0, 8.0, 8.0, 9.0, 9.0, 10.0, 10.0, 10.0, 13.0, 12.0, 12.0, 14.0, 14.0, 17.0, 16.0, 17.0, 18.0, 16.0, 17.0, 18.0, 21.0, 20.0, 22.0, 22.0, 1.0, 0.0, 2.0, 1.0, 5.0, 4.0, 4.0, 6.0, 6.0, 9.0, 8.0, 8.0, 8.0, 9.0, 9.0, 10.0, 10.0, 10.0, 8.0, 13.0, 12.0, 14.0, 14.0, 17.0, 18.0, 18.0, 21.0, 20.0, 21.0, 22.0, 1.0, 0.0, 2.0, 5.0, 5.0, 5.0, 9.0, 8.0, 10.0, 13.0, 12.0, 14.0, 13.0], \"y\": [1.0, 0.0, 2.0, 2.0, 2.0, 1.0, 0.0, 2.0, 1.0, 1.0, 1.0, 2.0, 1.0, 0.0, 1.0, 0.0, 2.0, 0.0, 1.0, 1.0, 2.0, 1.0, 0.0, 1.0, 2.0, 2.0, 0.0, 5.0, 4.0, 6.0, 4.0, 6.0, 5.0, 5.0, 5.0, 5.0, 4.0, 6.0, 5.0, 5.0, 4.0, 6.0, 6.0, 5.0, 4.0, 6.0, 4.0, 5.0, 5.0, 6.0, 4.0, 9.0, 10.0, 10.0, 8.0, 9.0, 8.0, 10.0, 8.0, 9.0, 9.0, 10.0, 8.0, 9.0, 9.0, 10.0, 9.0, 8.0, 9.0, 8.0, 10.0, 8.0, 10.0, 9.0, 9.0, 9.0, 13.0, 12.0, 14.0, 13.0, 13.0, 13.0, 12.0, 14.0, 13.0, 13.0, 14.0, 12.0, 14.0, 12.0, 13.0, 14.0, 13.0, 12.0, 14.0, 12.0, 14.0, 13.0, 12.0, 12.0, 12.0, 14.0, 14.0, 14.0, 13.0, 13.0, 12.0, 14.0, 17.0, 18.0, 18.0, 16.0, 17.0, 16.0, 18.0, 16.0, 18.0, 17.0, 16.0, 17.0, 18.0, 16.0, 18.0, 16.0, 17.0, 18.0, 19.0, 17.0, 17.0, 16.0, 18.0, 17.0, 16.0, 18.0, 17.0, 16.0, 18.0, 16.0, 21.0, 21.0, 21.0, 21.0, 20.0, 22.0, 21.0, 22.0, 20.0, 21.0, 22.0, 22.0, 20.0]}],\n",
       "                        {\"annotations\": [{\"font\": {\"family\": \"Arial\", \"size\": 12}, \"showarrow\": false, \"text\": \"Blue nodes = BJCP Categories <br> Gray nodes indicate variable color\", \"x\": 0.98, \"xref\": \"paper\", \"y\": 0.95, \"yref\": \"paper\"}], \"height\": 500, \"hovermode\": \"closest\", \"margin\": {\"b\": 20, \"l\": 0, \"r\": 0, \"t\": 50}, \"showlegend\": false, \"template\": {\"data\": {\"bar\": [{\"error_x\": {\"color\": \"#2a3f5f\"}, \"error_y\": {\"color\": \"#2a3f5f\"}, \"marker\": {\"line\": {\"color\": \"#E5ECF6\", \"width\": 0.5}}, \"type\": \"bar\"}], \"barpolar\": [{\"marker\": {\"line\": {\"color\": \"#E5ECF6\", \"width\": 0.5}}, \"type\": \"barpolar\"}], \"carpet\": [{\"aaxis\": {\"endlinecolor\": \"#2a3f5f\", \"gridcolor\": \"white\", \"linecolor\": \"white\", \"minorgridcolor\": \"white\", \"startlinecolor\": \"#2a3f5f\"}, \"baxis\": {\"endlinecolor\": \"#2a3f5f\", \"gridcolor\": \"white\", \"linecolor\": \"white\", \"minorgridcolor\": \"white\", \"startlinecolor\": \"#2a3f5f\"}, \"type\": \"carpet\"}], \"choropleth\": [{\"colorbar\": {\"outlinewidth\": 0, \"ticks\": \"\"}, \"type\": \"choropleth\"}], \"contour\": [{\"colorbar\": {\"outlinewidth\": 0, \"ticks\": \"\"}, \"colorscale\": [[0.0, \"#0d0887\"], [0.1111111111111111, \"#46039f\"], [0.2222222222222222, \"#7201a8\"], [0.3333333333333333, \"#9c179e\"], [0.4444444444444444, \"#bd3786\"], [0.5555555555555556, \"#d8576b\"], [0.6666666666666666, \"#ed7953\"], [0.7777777777777778, \"#fb9f3a\"], [0.8888888888888888, \"#fdca26\"], [1.0, \"#f0f921\"]], \"type\": \"contour\"}], \"contourcarpet\": [{\"colorbar\": {\"outlinewidth\": 0, \"ticks\": \"\"}, \"type\": \"contourcarpet\"}], \"heatmap\": [{\"colorbar\": {\"outlinewidth\": 0, \"ticks\": \"\"}, \"colorscale\": [[0.0, \"#0d0887\"], [0.1111111111111111, \"#46039f\"], [0.2222222222222222, \"#7201a8\"], [0.3333333333333333, \"#9c179e\"], [0.4444444444444444, \"#bd3786\"], [0.5555555555555556, \"#d8576b\"], [0.6666666666666666, \"#ed7953\"], [0.7777777777777778, \"#fb9f3a\"], [0.8888888888888888, \"#fdca26\"], [1.0, \"#f0f921\"]], \"type\": \"heatmap\"}], \"heatmapgl\": [{\"colorbar\": {\"outlinewidth\": 0, \"ticks\": \"\"}, \"colorscale\": [[0.0, \"#0d0887\"], [0.1111111111111111, \"#46039f\"], [0.2222222222222222, \"#7201a8\"], [0.3333333333333333, \"#9c179e\"], [0.4444444444444444, \"#bd3786\"], [0.5555555555555556, \"#d8576b\"], [0.6666666666666666, \"#ed7953\"], [0.7777777777777778, \"#fb9f3a\"], [0.8888888888888888, \"#fdca26\"], [1.0, \"#f0f921\"]], \"type\": \"heatmapgl\"}], \"histogram\": [{\"marker\": {\"colorbar\": {\"outlinewidth\": 0, \"ticks\": \"\"}}, \"type\": \"histogram\"}], \"histogram2d\": [{\"colorbar\": {\"outlinewidth\": 0, \"ticks\": \"\"}, \"colorscale\": [[0.0, \"#0d0887\"], [0.1111111111111111, \"#46039f\"], [0.2222222222222222, \"#7201a8\"], [0.3333333333333333, \"#9c179e\"], [0.4444444444444444, \"#bd3786\"], [0.5555555555555556, \"#d8576b\"], [0.6666666666666666, \"#ed7953\"], [0.7777777777777778, \"#fb9f3a\"], [0.8888888888888888, \"#fdca26\"], [1.0, \"#f0f921\"]], \"type\": \"histogram2d\"}], \"histogram2dcontour\": [{\"colorbar\": {\"outlinewidth\": 0, \"ticks\": \"\"}, \"colorscale\": [[0.0, \"#0d0887\"], [0.1111111111111111, \"#46039f\"], [0.2222222222222222, \"#7201a8\"], [0.3333333333333333, \"#9c179e\"], [0.4444444444444444, \"#bd3786\"], [0.5555555555555556, \"#d8576b\"], [0.6666666666666666, \"#ed7953\"], [0.7777777777777778, \"#fb9f3a\"], [0.8888888888888888, \"#fdca26\"], [1.0, \"#f0f921\"]], \"type\": \"histogram2dcontour\"}], \"mesh3d\": [{\"colorbar\": {\"outlinewidth\": 0, \"ticks\": \"\"}, \"type\": \"mesh3d\"}], \"parcoords\": [{\"line\": {\"colorbar\": {\"outlinewidth\": 0, \"ticks\": \"\"}}, \"type\": \"parcoords\"}], \"pie\": [{\"automargin\": true, \"type\": \"pie\"}], \"scatter\": [{\"marker\": {\"colorbar\": {\"outlinewidth\": 0, \"ticks\": \"\"}}, \"type\": \"scatter\"}], \"scatter3d\": [{\"line\": {\"colorbar\": {\"outlinewidth\": 0, \"ticks\": \"\"}}, \"marker\": {\"colorbar\": {\"outlinewidth\": 0, \"ticks\": \"\"}}, \"type\": \"scatter3d\"}], \"scattercarpet\": [{\"marker\": {\"colorbar\": {\"outlinewidth\": 0, \"ticks\": \"\"}}, \"type\": \"scattercarpet\"}], \"scattergeo\": [{\"marker\": {\"colorbar\": {\"outlinewidth\": 0, \"ticks\": \"\"}}, \"type\": \"scattergeo\"}], \"scattergl\": [{\"marker\": {\"colorbar\": {\"outlinewidth\": 0, \"ticks\": \"\"}}, \"type\": \"scattergl\"}], \"scattermapbox\": [{\"marker\": {\"colorbar\": {\"outlinewidth\": 0, \"ticks\": \"\"}}, \"type\": \"scattermapbox\"}], \"scatterpolar\": [{\"marker\": {\"colorbar\": {\"outlinewidth\": 0, \"ticks\": \"\"}}, \"type\": \"scatterpolar\"}], \"scatterpolargl\": [{\"marker\": {\"colorbar\": {\"outlinewidth\": 0, \"ticks\": \"\"}}, \"type\": \"scatterpolargl\"}], \"scatterternary\": [{\"marker\": {\"colorbar\": {\"outlinewidth\": 0, \"ticks\": \"\"}}, \"type\": \"scatterternary\"}], \"surface\": [{\"colorbar\": {\"outlinewidth\": 0, \"ticks\": \"\"}, \"colorscale\": [[0.0, \"#0d0887\"], [0.1111111111111111, \"#46039f\"], [0.2222222222222222, \"#7201a8\"], [0.3333333333333333, \"#9c179e\"], [0.4444444444444444, \"#bd3786\"], [0.5555555555555556, \"#d8576b\"], [0.6666666666666666, \"#ed7953\"], [0.7777777777777778, \"#fb9f3a\"], [0.8888888888888888, \"#fdca26\"], [1.0, \"#f0f921\"]], \"type\": \"surface\"}], \"table\": [{\"cells\": {\"fill\": {\"color\": \"#EBF0F8\"}, \"line\": {\"color\": \"white\"}}, \"header\": {\"fill\": {\"color\": \"#C8D4E3\"}, \"line\": {\"color\": \"white\"}}, \"type\": \"table\"}]}, \"layout\": {\"annotationdefaults\": {\"arrowcolor\": \"#2a3f5f\", \"arrowhead\": 0, \"arrowwidth\": 1}, \"coloraxis\": {\"colorbar\": {\"outlinewidth\": 0, \"ticks\": \"\"}}, \"colorscale\": {\"diverging\": [[0, \"#8e0152\"], [0.1, \"#c51b7d\"], [0.2, \"#de77ae\"], [0.3, \"#f1b6da\"], [0.4, \"#fde0ef\"], [0.5, \"#f7f7f7\"], [0.6, \"#e6f5d0\"], [0.7, \"#b8e186\"], [0.8, \"#7fbc41\"], [0.9, \"#4d9221\"], [1, \"#276419\"]], \"sequential\": [[0.0, \"#0d0887\"], [0.1111111111111111, \"#46039f\"], [0.2222222222222222, \"#7201a8\"], [0.3333333333333333, \"#9c179e\"], [0.4444444444444444, \"#bd3786\"], [0.5555555555555556, \"#d8576b\"], [0.6666666666666666, \"#ed7953\"], [0.7777777777777778, \"#fb9f3a\"], [0.8888888888888888, \"#fdca26\"], [1.0, \"#f0f921\"]], \"sequentialminus\": [[0.0, \"#0d0887\"], [0.1111111111111111, \"#46039f\"], [0.2222222222222222, \"#7201a8\"], [0.3333333333333333, \"#9c179e\"], [0.4444444444444444, \"#bd3786\"], [0.5555555555555556, \"#d8576b\"], [0.6666666666666666, \"#ed7953\"], [0.7777777777777778, \"#fb9f3a\"], [0.8888888888888888, \"#fdca26\"], [1.0, \"#f0f921\"]]}, \"colorway\": [\"#636efa\", \"#EF553B\", \"#00cc96\", \"#ab63fa\", \"#FFA15A\", \"#19d3f3\", \"#FF6692\", \"#B6E880\", \"#FF97FF\", \"#FECB52\"], \"font\": {\"color\": \"#2a3f5f\"}, \"geo\": {\"bgcolor\": \"white\", \"lakecolor\": \"white\", \"landcolor\": \"#E5ECF6\", \"showlakes\": true, \"showland\": true, \"subunitcolor\": \"white\"}, \"hoverlabel\": {\"align\": \"left\"}, \"hovermode\": \"closest\", \"mapbox\": {\"style\": \"light\"}, \"paper_bgcolor\": \"white\", \"plot_bgcolor\": \"#E5ECF6\", \"polar\": {\"angularaxis\": {\"gridcolor\": \"white\", \"linecolor\": \"white\", \"ticks\": \"\"}, \"bgcolor\": \"#E5ECF6\", \"radialaxis\": {\"gridcolor\": \"white\", \"linecolor\": \"white\", \"ticks\": \"\"}}, \"scene\": {\"xaxis\": {\"backgroundcolor\": \"#E5ECF6\", \"gridcolor\": \"white\", \"gridwidth\": 2, \"linecolor\": \"white\", \"showbackground\": true, \"ticks\": \"\", \"zerolinecolor\": \"white\"}, \"yaxis\": {\"backgroundcolor\": \"#E5ECF6\", \"gridcolor\": \"white\", \"gridwidth\": 2, \"linecolor\": \"white\", \"showbackground\": true, \"ticks\": \"\", \"zerolinecolor\": \"white\"}, \"zaxis\": {\"backgroundcolor\": \"#E5ECF6\", \"gridcolor\": \"white\", \"gridwidth\": 2, \"linecolor\": \"white\", \"showbackground\": true, \"ticks\": \"\", \"zerolinecolor\": \"white\"}}, \"shapedefaults\": {\"line\": {\"color\": \"#2a3f5f\"}}, \"ternary\": {\"aaxis\": {\"gridcolor\": \"white\", \"linecolor\": \"white\", \"ticks\": \"\"}, \"baxis\": {\"gridcolor\": \"white\", \"linecolor\": \"white\", \"ticks\": \"\"}, \"bgcolor\": \"#E5ECF6\", \"caxis\": {\"gridcolor\": \"white\", \"linecolor\": \"white\", \"ticks\": \"\"}}, \"title\": {\"x\": 0.05}, \"xaxis\": {\"automargin\": true, \"gridcolor\": \"white\", \"linecolor\": \"white\", \"ticks\": \"\", \"title\": {\"standoff\": 15}, \"zerolinecolor\": \"white\", \"zerolinewidth\": 2}, \"yaxis\": {\"automargin\": true, \"gridcolor\": \"white\", \"linecolor\": \"white\", \"ticks\": \"\", \"title\": {\"standoff\": 15}, \"zerolinecolor\": \"white\", \"zerolinewidth\": 2}}}, \"title\": {\"font\": {\"color\": \"black\", \"family\": \"Impact\", \"size\": 20}, \"text\": \"Beer Taxonomy Chart\", \"x\": 0.5, \"xanchor\": \"center\", \"y\": 0.95}, \"width\": 800, \"xaxis\": {\"showgrid\": false, \"showticklabels\": false, \"zeroline\": false}, \"yaxis\": {\"showgrid\": false, \"showticklabels\": false, \"zeroline\": false}},\n",
       "                        {\"responsive\": true}\n",
       "                    ).then(function(){\n",
       "                            \n",
       "var gd = document.getElementById('071b1c5d-34b6-4058-9020-a507d3b5c5ed');\n",
       "var x = new MutationObserver(function (mutations, observer) {{\n",
       "        var display = window.getComputedStyle(gd).display;\n",
       "        if (!display || display === 'none') {{\n",
       "            console.log([gd, 'removed!']);\n",
       "            Plotly.purge(gd);\n",
       "            observer.disconnect();\n",
       "        }}\n",
       "}});\n",
       "\n",
       "// Listen for the removal of the full notebook cells\n",
       "var notebookContainer = gd.closest('#notebook-container');\n",
       "if (notebookContainer) {{\n",
       "    x.observe(notebookContainer, {childList: true});\n",
       "}}\n",
       "\n",
       "// Listen for the clearing of the current output cell\n",
       "var outputEl = gd.closest('.output');\n",
       "if (outputEl) {{\n",
       "    x.observe(outputEl, {childList: true});\n",
       "}}\n",
       "\n",
       "                        })\n",
       "                };\n",
       "                });\n",
       "            </script>\n",
       "        </div>"
      ]
     },
     "metadata": {},
     "output_type": "display_data"
    }
   ],
   "source": [
    "import plotly.graph_objects as go\n",
    "import networkx as nx\n",
    "import pandas as pd\n",
    "import matplotlib.pyplot as plt\n",
    "import numpy as np\n",
    "\n",
    "# Read data in. Drop extraneous columns.\n",
    "df = pd.read_excel(\"data/2015_Guidelines.xlsx\")\n",
    "df.drop(columns=[\"Unnamed: 27\", \"Unnamed: 28\", \"Unnamed: 29\"], inplace=True)\n",
    "\n",
    "#categories = list(df['BJCP Categories'])\n",
    "#styles = list(df['Styles'])\n",
    "\n",
    "# Create a network graph from the dataframe.\n",
    "G = nx.from_pandas_edgelist(df, source=\"BJCP Categories\", target=\"Styles\", edge_attr=None)\n",
    "\n",
    "# Create positions for the graph.\n",
    "#pos = nx.spring_layout(G)\n",
    "\n",
    "# Read the pre-defined coordinates.\n",
    "coords = np.genfromtxt(r'data/coords.txt', delimiter=',')\n",
    "\n",
    "# Create an empty dictionary that will match each node with the coordinates from above.\n",
    "pos = {}\n",
    "\n",
    "# List of attributes\n",
    "attr = ['Style Family', 'Style History', 'Origin', 'ABV min', 'ABV max', 'IBUs min', 'IBUs max', 'SRM min', 'SRM max', \n",
    "          'OG min', 'OG max', 'FG min', 'FG max', 'Overall Impression', 'Aroma', 'Appearance', 'Flavor', 'Mouthfell', \n",
    "          'Comments', 'History', 'Characteristic Ingredients', 'Style Comparison', 'Commercial Examples', 'Notes']\n",
    "\n",
    "# Add attributes for the style (i.e. target) nodes.\n",
    "for i, row in df.iterrows():\n",
    "    for a in attr:\n",
    "        G.nodes[row['BJCP Categories']][a] = \" \"\n",
    "        G.nodes[row['Styles']][a] = str(row[a])\n",
    "\n",
    "        \n",
    "nodes_loc = np.empty(shape=(len(G.nodes), 2))\n",
    "  \n",
    "colors_dict = {1: '#FFE699', 2: '#FFD878', 3: '#FFCA5A', 4: '#FFBF42',\n",
    "         5: '#FBB123', 6: '#F8A600', 7: '#F39C00', 8: '#EA8F00',\n",
    "         9: '#E58500', 10: '#DE7C00', 11: '#D77200', 12: '#CF6900',\n",
    "         13: '#CB6200', 14: '#C35900', 15: '#BB5100', 16: '#B54C00',\n",
    "         17: '#B04500', 18: '#A63E00', 19: '#A13700', 20: '#9B3200',\n",
    "         21: '#952D00', 22: '#8E2900', 23: '#882300', 24: '#821E00',\n",
    "         25: '#7B1A00', 26: '#771900', 27: '#701400', 28: '#6A0E00',\n",
    "         29: '#660D00', 30: '#5E0B00', 31: '#5A0A02', 32: '#600903',\n",
    "         33: '#520907', 34: '#4C0505', 35: '#470606', 36: '#440607',\n",
    "         37: '#3F0708', 38: '#3B0607', 39: '#3A070B', 40: '#36080A'}\n",
    "\n",
    "colors = []\n",
    "\n",
    "for ix, node in enumerate(G.nodes()):\n",
    "    \n",
    "    pos[node] = coords[ix]\n",
    "    nodes_loc[ix] = pos[node]\n",
    "    \n",
    "    try:\n",
    "        \n",
    "        m = 0.5 * (float(G.nodes[node]['SRM min']) + float(G.nodes[node]['SRM max']))\n",
    "        colors.append(colors_dict[round(m)])\n",
    "                  \n",
    "    except ValueError:\n",
    "        if G.nodes[node]['SRM max'] == \" \":\n",
    "            colors.append('#000cb8')\n",
    "        else:\n",
    "            colors.append('gray')\n",
    "\n",
    "edges_loc = []\n",
    "\n",
    "for edge in G.edges():\n",
    "    edges_loc.append(pos[edge[0]])\n",
    "    edges_loc.append(pos[edge[1]])\n",
    "    edges_loc.append([None, None])\n",
    "\n",
    "edges_loc = np.array(edges_loc)\n",
    "\n",
    "nodes=[dict(type='scatter',\n",
    "            x=nodes_loc[:,0],\n",
    "            y=nodes_loc[:,1],\n",
    "            mode='markers',\n",
    "            marker=dict(size=15, color=colors), \n",
    "            hoverinfo='text',\n",
    "            hovertext=[node + \n",
    "                       \"<br>Origin: \" + G.nodes[node]['Origin'] +\n",
    "                       \"<br>ABV range: \" + G.nodes[node]['ABV min'] + \"-\" + G.nodes[node]['ABV max'] +\n",
    "                       \"<br>IBU range: \" + G.nodes[node]['IBUs min'] + \"-\" + G.nodes[node]['IBUs max']\n",
    "                       for node in G.nodes()])]\n",
    "\n",
    "edges=[dict(type='scatter',\n",
    "            x=edges_loc[:,0],\n",
    "            y=edges_loc[:,1],\n",
    "            mode='lines',\n",
    "            line=dict(width=2, color='gray'))]\n",
    "\n",
    "data=edges+nodes\n",
    "\n",
    "fig = go.Figure(data=data,\n",
    "             layout=go.Layout(\n",
    "                height=500,\n",
    "                 width=800,\n",
    "                title={'text':'Beer Taxonomy Chart', \n",
    "                       'font':{'family':'Impact',\n",
    "                               'color':'black',\n",
    "                               'size':20},\n",
    "                       'x':0.5,\n",
    "                       'xanchor':'center',\n",
    "                       'y':0.95},\n",
    "                hovermode='closest',\n",
    "                margin=dict(b=20,l=0,r=0,t=50),\n",
    "                xaxis=dict(showgrid=False, zeroline=False, showticklabels=False),\n",
    "                yaxis=dict(showgrid=False, zeroline=False, showticklabels=False),\n",
    "                showlegend=False,\n",
    "                annotations=[dict(\n",
    "                    text=\"Blue nodes = BJCP Categories <br> Gray nodes indicate variable color\",\n",
    "                    font={'family': 'Arial', 'size':12},\n",
    "                    showarrow=False,\n",
    "                    xref=\"paper\", yref=\"paper\",\n",
    "                    x=0.98, y=0.95)]\n",
    "             )\n",
    "            )\n",
    "                \n",
    "fig.show()"
   ]
  }
 ],
 "metadata": {
  "kernelspec": {
   "display_name": "Python 3",
   "language": "python",
   "name": "python3"
  },
  "language_info": {
   "codemirror_mode": {
    "name": "ipython",
    "version": 3
   },
   "file_extension": ".py",
   "mimetype": "text/x-python",
   "name": "python",
   "nbconvert_exporter": "python",
   "pygments_lexer": "ipython3",
   "version": "3.7.4"
  }
 },
 "nbformat": 4,
 "nbformat_minor": 2
}
